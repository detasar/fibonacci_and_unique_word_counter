{
  "nbformat": 4,
  "nbformat_minor": 0,
  "metadata": {
    "colab": {
      "name": "fibonacci or unique num counter.ipynb",
      "provenance": [],
      "collapsed_sections": []
    },
    "kernelspec": {
      "name": "python3",
      "display_name": "Python 3"
    }
  },
  "cells": [
    {
      "cell_type": "code",
      "metadata": {
        "id": "VEma4HYIryq3"
      },
      "source": [
        "import sys #just in case :D\n",
        "import re"
      ],
      "execution_count": null,
      "outputs": []
    },
    {
      "cell_type": "code",
      "metadata": {
        "id": "IToltBrubqz_"
      },
      "source": [
        "def temizler(input_variable):\n",
        "  #Necessary imports : import re, import sys\n",
        "  #This function gets the input, lowercases it, splits the words and ignore everything but A-Za-z0-9ğüşıçöa\n",
        "  #to use this function properly you must call it with one object like: input_pre_processor('deneme') or input_pre_processor(list_a)\n",
        "  #to add more operations to this function you can try like above pro1 = [sub1.function(operation) for sub1 in pro1]\n",
        "  input_variable = str(input_variable)\n",
        "  pro1 = [sub1 for sub1 in input_variable.split(' ')]\n",
        "  pro1 = [sub1.lower() for sub1 in input_variable.split(' ')] #lowercases the input\n",
        "  pro1 = [re.sub('[^A-Za-z0-9ğüşıçöiİŞ]+', ' ',sub1) for sub1 in pro1] #uses regex and removes nothing bu given parameters\n",
        "  pro1 = [sub1.strip(' ') for sub1 in pro1] # makes words and sentences seperated from each other\n",
        "  \n",
        "  print(pro1)\n",
        "  return pro1"
      ],
      "execution_count": null,
      "outputs": []
    },
    {
      "cell_type": "code",
      "metadata": {
        "id": "Cl45qu0EAHg-"
      },
      "source": [
        "def num_counter(x):\n",
        "  word_list = [] #we create an empty list for all inputs \n",
        "  number_of_inputs = x #get the number of inputs to iterate over while loop\n",
        "  error_count = 0  #if there happens to be an error more than five times counter initiates \n",
        "  i = 0 # starting number of input loop\n",
        "  while i < x: # loop will create desired number of words or word groups will be implemented.\n",
        "    input_parameter = str(input('Lütfen kelime olarak giriş yapınız:'))  #numbers can also be defined as words that's why it is taken as str but it can be changed up on request\n",
        "    try:\n",
        "      for q in range(len(temizler(input_parameter))):\n",
        "        word_list.append(temizler(input_parameter)[q])\n",
        "      i+=1\n",
        "    except:\n",
        "      print('Girilen parametre uygun değildir. Lütfen kelime ya da kelime grupları girişi yapınız')\n",
        "      error_count += 1\n",
        "      if error_count > 5:\n",
        "        print('5 defa yanlış giriş yaptınız program durdurulacaktır!')\n",
        "        break\n",
        "      else:\n",
        "        continue\n",
        "      \n",
        "  word_freq = []\n",
        "  for w in word_list:\n",
        "    word_freq.append(word_list.count(w))\n",
        "  word_dict = dict(zip(word_list, word_freq)) \n",
        "  for key,value in word_dict.items():\n",
        "    if value == 1:\n",
        "         print(key)\n"
      ],
      "execution_count": null,
      "outputs": []
    },
    {
      "cell_type": "code",
      "metadata": {
        "id": "JMEQcsCFtWOg"
      },
      "source": [
        "def fibonacci(number):\n",
        "  n = number\n",
        "  if n ==0 or n==1:\n",
        "    return n\n",
        "  return fibonacci(n-1)+fibonacci(n-2)"
      ],
      "execution_count": null,
      "outputs": []
    },
    {
      "cell_type": "code",
      "metadata": {
        "id": "P-INoOrlRaHG"
      },
      "source": [
        "print('Merhabalar. Hoş Geldiniz.')\n",
        "print('Çalıştırdığınız bu uygulama 2 ayrı fonksyonda çalışmaktadır.')\n",
        "print('1.Fonksyonda, size girdiğiniz sayıya karşılık geren fibonacci sayısı gösterilmektedir.')\n",
        "print('2.Fonksyonda ise öncelikle kaç adet kelime gireceğiniz sorulmakta, \\ndaha sonra girdiğiniz kelimelerden eşsiz olanlar gösterilmektedir.')\n",
        "print('Lütfen 1. Fonksyon için 1 e, 2. Fonksyon için ise 2ye basınız')\n",
        "print('Program kullanıldıktan sonra kapanacaktır. Tekrar kullanmak \\niçin programı tekrar çalıştırmanız gerekmektedir.')\n"
      ],
      "execution_count": null,
      "outputs": []
    },
    {
      "cell_type": "code",
      "metadata": {
        "id": "f0NXqw4GYxlR"
      },
      "source": [
        "error_count = 0\n",
        "while True:\n",
        "  loadx = input('Lütfen hangi fonksyonu çalıştırmak istediğinizi seçiniz\\n1 - Fibonacci\\n2 - Eşsiz Kelime Bulucu\\n')\n",
        "  try:\n",
        "    sayisal = int(loadx)\n",
        "    \n",
        "    if sayisal == 1 :\n",
        "      number = input('Lütfen kaçıncı fibonacci sayısını istediğinizi tamsayı, rakam olarak giriniz:\\nörnek: 1 için 1, 7 için 7 yazıp enter a basınız')\n",
        "      try:\n",
        "        number = int(number)\n",
        "        result = (fibonacci((number)))\n",
        "        print(str(number)+'th fibonacci is:')\n",
        "        print(result)\n",
        "        break\n",
        "      except:\n",
        "        print('Lütfen bir sayı giriniz.\\nprogram baştan başlayacaktır.')\n",
        "        error_count +=1\n",
        "        if error_count > 5:\n",
        "          print('5 defa yanlış giriş yaptınız program durdurulacaktır!')\n",
        "          break\n",
        "    elif sayisal == 2:\n",
        "      num_of_words = input('Lütfen kaç adet giriş yapacağınızı rakam olarak giriniz:\\nörnek: 1 için 1, 7 için 7 yazıp enter a basınız')\n",
        "      try:\n",
        "        num_of_words = int(num_of_words)\n",
        "        num_counter(num_of_words)\n",
        "        break\n",
        "      except ValueError:\n",
        "        print('Yapmış olduğunuz giriş 1 ya da 2 rakamı dışında olduğu için işleminize devam edemiyorum\\nLütfen tekrar deneyiniz...')\n",
        "        error_count +=1\n",
        "        if error_count > 5:\n",
        "          print('5 defa yanlış giriş yaptınız program durdurulacaktır!')\n",
        "          break\n",
        "        continue\n",
        "    else:\n",
        "      print('Yapmış olduğunuz giriş rakam olmadığı için işleminize devam edemiyorum\\nLütfen tekrar deneyiniz...')\n",
        "      error_count +=1\n",
        "      if error_count > 5:\n",
        "        print('5 defa yanlış giriş yaptınız program durdurulacaktır!')\n",
        "        break\n",
        "  except ValueError:\n",
        "    print('Yapmış olduğunuz giriş 1 ya da 2 rakamı dışında olduğu için işleminize devam edemiyorum\\nLütfen tekrar deneyiniz...')\n",
        "    error_count +=1\n",
        "    if error_count > 5:\n",
        "      print('5 defa yanlış giriş yaptınız program durdurulacaktır!')\n",
        "      break\n",
        "    continue"
      ],
      "execution_count": null,
      "outputs": []
    }
  ]
}